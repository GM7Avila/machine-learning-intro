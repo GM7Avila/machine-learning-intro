{
 "cells": [
  {
   "cell_type": "markdown",
   "metadata": {},
   "source": [
    "# Método de Monte Carlo para aproximar o valor de PI\n",
    "\n",
    "- Tendo uma circunferência dentro de um centrada em (0,0) em um plano cartesiano.\n",
    "\n",
    "## Noção Intiutiva\n",
    "\n",
    "1) Delimitando a área do círculo por um quadrado circunscrito:\n",
    "    \n",
    "    - Ao escolher um quadrado circunscrito a um círculo, garantimos que o círculo está completamente contido dentro do quadrado.\n",
    "\n",
    "    - Isso simplifica o processo de geração de pontos aleatórios, pois basta gerar pontos dentro dos limites do quadrado.\n",
    "\n",
    "2. Geração de pontos aleatórios\n",
    "    - Pontos são gerados aleatóriamente dentro dos limites do quadrado. Cada ponto é representado por um par ordenado (x,y), onde x e y são coordenadas dentro do quadrado.\n",
    "\n",
    "3. Determinação dos pontos dentro do círculo\n",
    "    - Para determinar se um ponto gerado está dentro do circulo, utilizamos a equação da circunferência. Se a **distância do ponto ao centro** for menor/igual ao **raio do circulo**, então o ponto está dentro do limite do círculo.\n",
    "\n",
    "4. Cálculo das proporções:\n",
    "    - Contabilizando o número de pontos que caem dentro do círculo e dividindo pelo número total de pontos gerados, teremos uma proporção aproximadamente igual à **razão entre a área do círculo e a área do quadrado**. \n",
    "    - Como a área do quadrado é conhecida (l²) podemos usar essa proporção para **estimar a área do círculo**.\n",
    "\n",
    "5. Estimativa de PI\n",
    "    - Sabendo que a área do circulo é π⋅r², podemos estabelecer a relação:\n",
    "    - Area do Circulo / Area do quadrado = π⋅r² / l²\n",
    "\n",
    "- Área do círculo = π.r²\n",
    "- Área do quadrado = l² "
   ]
  },
  {
   "cell_type": "code",
   "execution_count": 2,
   "metadata": {},
   "outputs": [],
   "source": [
    "import numpy as np\n",
    "\n",
    "Nt = 10000\n",
    "Nin = 0\n",
    "\n",
    "for i in range(Nt):\n",
    "    x = np.random.rand(1)\n",
    "    y = np.random.rand(1)\n",
    "    \n",
    "    if y**2 + x**2 <= 1:\n",
    "        Nin += 1\n",
    "    \n",
    "PI = 4 * Nin/Nt"
   ]
  }
 ],
 "metadata": {
  "kernelspec": {
   "display_name": "Python 3 (ipykernel)",
   "language": "python",
   "name": "python3"
  },
  "language_info": {
   "codemirror_mode": {
    "name": "ipython",
    "version": 3
   },
   "file_extension": ".py",
   "mimetype": "text/x-python",
   "name": "python",
   "nbconvert_exporter": "python",
   "pygments_lexer": "ipython3",
   "version": "3.10.12"
  }
 },
 "nbformat": 4,
 "nbformat_minor": 4
}
