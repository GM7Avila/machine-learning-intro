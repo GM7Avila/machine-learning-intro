{
 "cells": [
  {
   "cell_type": "code",
   "execution_count": 40,
   "metadata": {},
   "outputs": [
    {
     "name": "stdout",
     "output_type": "stream",
     "text": [
      "[' ', '!', 'a', 'c', 'd', 'e', 'f', 'h', 'j', 'm', 'n', 'o', 'p', 'r', 's', 't', 'v', 'á', 'ê']\n"
     ]
    }
   ],
   "source": [
    "# Pegando uma frase, quebrando em caracteres e ordenando em ordem alfabetica (sem duplicidade - uso do set)\n",
    "frase = \"hoje você está focado em aprender!\"\n",
    "caracteres = sorted(list(set(frase)))\n",
    "print(caracteres)"
   ]
  },
  {
   "cell_type": "code",
   "execution_count": 41,
   "metadata": {},
   "outputs": [
    {
     "data": {
      "text/plain": [
       "{' ': 0,\n",
       " '!': 1,\n",
       " 'a': 2,\n",
       " 'c': 3,\n",
       " 'd': 4,\n",
       " 'e': 5,\n",
       " 'f': 6,\n",
       " 'h': 7,\n",
       " 'j': 8,\n",
       " 'm': 9,\n",
       " 'n': 10,\n",
       " 'o': 11,\n",
       " 'p': 12,\n",
       " 'r': 13,\n",
       " 's': 14,\n",
       " 't': 15,\n",
       " 'v': 16,\n",
       " 'á': 17,\n",
       " 'ê': 18}"
      ]
     },
     "execution_count": 41,
     "metadata": {},
     "output_type": "execute_result"
    }
   ],
   "source": [
    "# Cria um dicionário =  'char' : index\n",
    "letraParaIndex = { lt:i for i, lt in enumerate(caracteres)}\n",
    "letraParaIndex"
   ]
  },
  {
   "cell_type": "code",
   "execution_count": 42,
   "metadata": {},
   "outputs": [
    {
     "name": "stdout",
     "output_type": "stream",
     "text": [
      "(Encode) vamos aprender --> [16, 2, 9, 11, 14, 0, 2, 12, 13, 5, 10, 4, 5, 13]\n",
      "(Decode) [16, 2, 9, 11, 14, 0, 2, 12, 13, 5, 10, 4, 5, 13] --> vamos aprender\n"
     ]
    }
   ],
   "source": [
    "# Recebe uma string onde para cada caractere, se recupera o respectivo índice no dicionário.\n",
    "encode = lambda s: [letraParaIndex[c] for c in s]\n",
    "decode = lambda i: ''.join([caracteres[i] for i in i])\n",
    "\n",
    "# Exemplo\n",
    "frase = \"vamos aprender\"\n",
    "array_encoded = encode(frase)\n",
    "\n",
    "print(\"(Encode)\", frase, \"-->\", array_encoded)\n",
    "print(\"(Decode)\", array_encoded,\"-->\", decode(array_encoded))"
   ]
  },
  {
   "cell_type": "markdown",
   "metadata": {},
   "source": [
    "> **Note**: para grandes textos essa técnica de encode dos tokens passa a ser inviável. "
   ]
  },
  {
   "cell_type": "code",
   "execution_count": 45,
   "metadata": {},
   "outputs": [
    {
     "data": {
      "text/html": [
       "<div>\n",
       "<style scoped>\n",
       "    .dataframe tbody tr th:only-of-type {\n",
       "        vertical-align: middle;\n",
       "    }\n",
       "\n",
       "    .dataframe tbody tr th {\n",
       "        vertical-align: top;\n",
       "    }\n",
       "\n",
       "    .dataframe thead th {\n",
       "        text-align: right;\n",
       "    }\n",
       "</style>\n",
       "<table border=\"1\" class=\"dataframe\">\n",
       "  <thead>\n",
       "    <tr style=\"text-align: right;\">\n",
       "      <th></th>\n",
       "      <th>texto</th>\n",
       "    </tr>\n",
       "  </thead>\n",
       "  <tbody>\n",
       "    <tr>\n",
       "      <th>0</th>\n",
       "      <td>você está começando a aprender Transformer</td>\n",
       "    </tr>\n",
       "    <tr>\n",
       "      <th>1</th>\n",
       "      <td>talvez você esteja começando a gostar</td>\n",
       "    </tr>\n",
       "  </tbody>\n",
       "</table>\n",
       "</div>"
      ],
      "text/plain": [
       "                                        texto\n",
       "0  você está começando a aprender Transformer\n",
       "1       talvez você esteja começando a gostar"
      ]
     },
     "execution_count": 45,
     "metadata": {},
     "output_type": "execute_result"
    }
   ],
   "source": [
    "# Vamos usar uma técnica de one-hot-encoding para encodar palavras ao em vez de caracteres\n",
    "\n",
    "import pandas as pd\n",
    "import numpy as np\n",
    "\n",
    "texto = { 'texto' : [\n",
    "  'você está começando a aprender Transformer',\n",
    "  'talvez você esteja começando a gostar',\n",
    "]}\n",
    "\n",
    "texto = pd.DataFrame(texto)\n",
    "texto"
   ]
  },
  {
   "cell_type": "markdown",
   "metadata": {},
   "source": [
    "Quando usamos one-hot encoding para palavras, cada palavra única em todo o texto se torna uma coluna na matriz de saída. Veja com o uso do `get_dummies()`:"
   ]
  },
  {
   "cell_type": "code",
   "execution_count": 54,
   "metadata": {},
   "outputs": [
    {
     "data": {
      "text/html": [
       "<div>\n",
       "<style scoped>\n",
       "    .dataframe tbody tr th:only-of-type {\n",
       "        vertical-align: middle;\n",
       "    }\n",
       "\n",
       "    .dataframe tbody tr th {\n",
       "        vertical-align: top;\n",
       "    }\n",
       "\n",
       "    .dataframe thead th {\n",
       "        text-align: right;\n",
       "    }\n",
       "</style>\n",
       "<table border=\"1\" class=\"dataframe\">\n",
       "  <thead>\n",
       "    <tr style=\"text-align: right;\">\n",
       "      <th></th>\n",
       "      <th>Transformer</th>\n",
       "      <th>a</th>\n",
       "      <th>aprender</th>\n",
       "      <th>começando</th>\n",
       "      <th>esteja</th>\n",
       "      <th>está</th>\n",
       "      <th>gostar</th>\n",
       "      <th>talvez</th>\n",
       "      <th>você</th>\n",
       "    </tr>\n",
       "  </thead>\n",
       "  <tbody>\n",
       "    <tr>\n",
       "      <th>0</th>\n",
       "      <td>1</td>\n",
       "      <td>1</td>\n",
       "      <td>1</td>\n",
       "      <td>1</td>\n",
       "      <td>0</td>\n",
       "      <td>1</td>\n",
       "      <td>0</td>\n",
       "      <td>0</td>\n",
       "      <td>1</td>\n",
       "    </tr>\n",
       "    <tr>\n",
       "      <th>1</th>\n",
       "      <td>0</td>\n",
       "      <td>1</td>\n",
       "      <td>0</td>\n",
       "      <td>1</td>\n",
       "      <td>1</td>\n",
       "      <td>0</td>\n",
       "      <td>1</td>\n",
       "      <td>1</td>\n",
       "      <td>1</td>\n",
       "    </tr>\n",
       "  </tbody>\n",
       "</table>\n",
       "</div>"
      ],
      "text/plain": [
       "   Transformer  a  aprender  começando  esteja  está  gostar  talvez  você\n",
       "0            1  1         1          1       0     1       0       0     1\n",
       "1            0  1         0          1       1     0       1       1     1"
      ]
     },
     "execution_count": 54,
     "metadata": {},
     "output_type": "execute_result"
    }
   ],
   "source": [
    "# Exemplo de modelo do pandas: get_dummies\n",
    "\n",
    "texto[\"texto\"].str.get_dummies(\" \")\n",
    "\n",
    "# Transforma todo o texto concatenado em uma matriz de ocorrência de palavras - onde existe (1) e não existe (0)"
   ]
  },
  {
   "cell_type": "markdown",
   "metadata": {},
   "source": [
    "### Complexidade\n",
    "\n",
    "Porém, se formos levar em consideração um conjunto de TODAS as palavras de um idioma, teremos um grande problema de complexidade, pois teremos uma matriz $palavras$ x $palavras$, esparsamente preenchida com `1`, e contendo em sua grande maioria valores `0` (pois não usamos todas as palavras da lingua portuguesa em uma frase).\n",
    "\n",
    "- Exemplo no uso de grandes vocabularios:\n",
    "\n",
    "<img src=\"https://projects.volkamerlab.org/teachopencadd/_images/talktorials_T021_one_hot_encoding_81_0.png\">\n",
    "\n",
    "Isso levaria a um aumento exponencial de complexidade e grande desperdício de recursos.\n",
    "\n"
   ]
  }
 ],
 "metadata": {
  "kernelspec": {
   "display_name": ".venv",
   "language": "python",
   "name": "python3"
  },
  "language_info": {
   "codemirror_mode": {
    "name": "ipython",
    "version": 3
   },
   "file_extension": ".py",
   "mimetype": "text/x-python",
   "name": "python",
   "nbconvert_exporter": "python",
   "pygments_lexer": "ipython3",
   "version": "3.12.3"
  }
 },
 "nbformat": 4,
 "nbformat_minor": 2
}
